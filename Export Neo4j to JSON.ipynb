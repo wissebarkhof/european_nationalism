{
 "cells": [
  {
   "cell_type": "code",
   "execution_count": 35,
   "metadata": {},
   "outputs": [],
   "source": [
    "from neo4j.v1 import GraphDatabase\n",
    "import json \n",
    "\n",
    "uri = \"bolt://localhost:7687\"\n",
    "driver = GraphDatabase.driver(uri, auth=(\"neo4j\", \"dodadoda\"))\n",
    "\n",
    "\n",
    "\n",
    "with driver.session() as session:\n",
    "    result = session.run('MATCH (n) RETURN n')\n",
    "    nodes = []\n",
    "    for record in result.records():\n",
    "        n = record['n']\n",
    "        node = dict(n.items())\n",
    "        node['label'] = iter(n.labels).next()\n",
    "        node['id'] = n.id\n",
    "        nodes.append(node)\n",
    "     \n",
    "    result = session.run('MATCH (n)-[r:LINKS_TO]->(m) RETURN n, r, m')\n",
    "    links = []\n",
    "    for record in result.records():\n",
    "        link = {\n",
    "            'source': record['n'].id,\n",
    "            'target': record['m'].id\n",
    "        }\n",
    "        links.append(link)\n",
    "    json_graph = {\n",
    "        'nodes': nodes,\n",
    "        'links': links\n",
    "    }\n",
    "\n"
   ]
  },
  {
   "cell_type": "code",
   "execution_count": 33,
   "metadata": {},
   "outputs": [],
   "source": [
    "with open('data/party_movement_graph.json', 'w') as outfile:\n",
    "    outfile.write(json.dumps( json_graph))"
   ]
  },
  {
   "cell_type": "code",
   "execution_count": null,
   "metadata": {},
   "outputs": [],
   "source": []
  }
 ],
 "metadata": {
  "kernelspec": {
   "display_name": "Python 2",
   "language": "python",
   "name": "python2"
  },
  "language_info": {
   "codemirror_mode": {
    "name": "ipython",
    "version": 2
   },
   "file_extension": ".py",
   "mimetype": "text/x-python",
   "name": "python",
   "nbconvert_exporter": "python",
   "pygments_lexer": "ipython2",
   "version": "2.7.14"
  }
 },
 "nbformat": 4,
 "nbformat_minor": 2
}
